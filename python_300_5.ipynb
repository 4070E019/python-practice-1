{
  "nbformat": 4,
  "nbformat_minor": 0,
  "metadata": {
    "colab": {
      "name": "python 300_5.ipynb",
      "version": "0.3.2",
      "provenance": [],
      "include_colab_link": true
    },
    "kernelspec": {
      "name": "python2",
      "display_name": "Python 2"
    }
  },
  "cells": [
    {
      "cell_type": "markdown",
      "metadata": {
        "id": "view-in-github",
        "colab_type": "text"
      },
      "source": [
        "<a href=\"https://colab.research.google.com/github/Brown8893/python-practice/blob/master/python_300_5.ipynb\" target=\"_parent\"><img src=\"https://colab.research.google.com/assets/colab-badge.svg\" alt=\"Open In Colab\"/></a>"
      ]
    },
    {
      "metadata": {
        "id": "Nit6NFct9Tg6",
        "colab_type": "code",
        "colab": {
          "base_uri": "https://localhost:8080/",
          "height": 51
        },
        "outputId": "3f935240-9152-4d09-cb7a-8db3ee81b8a2"
      },
      "cell_type": "code",
      "source": [
        "#我的python練習(Ch1-1.4)\n",
        "# Convert Fahrenheit to Celsius\n",
        "print(\"Fahrenheit 35 is Celsius degree \")\n",
        "print(5 / 9 * (35 - 32))"
      ],
      "execution_count": 1,
      "outputs": [
        {
          "output_type": "stream",
          "text": [
            "Fahrenheit 35 is Celsius degree \n",
            "0\n"
          ],
          "name": "stdout"
        }
      ]
    },
    {
      "metadata": {
        "id": "3QAJxPCg95nQ",
        "colab_type": "text"
      },
      "cell_type": "markdown",
      "source": [
        "Chapter 1_practice 1.4"
      ]
    },
    {
      "metadata": {
        "id": "SeLyqULP9283",
        "colab_type": "text"
      },
      "cell_type": "markdown",
      "source": [
        ""
      ]
    }
  ]
}