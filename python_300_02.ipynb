{
  "nbformat": 4,
  "nbformat_minor": 0,
  "metadata": {
    "colab": {
      "name": "python 300_02.ipynb",
      "version": "0.3.2",
      "provenance": [],
      "collapsed_sections": [],
      "include_colab_link": true
    },
    "kernelspec": {
      "name": "python2",
      "display_name": "Python 2"
    }
  },
  "cells": [
    {
      "cell_type": "markdown",
      "metadata": {
        "id": "view-in-github",
        "colab_type": "text"
      },
      "source": [
        "<a href=\"https://colab.research.google.com/github/Brown8893/python-practice/blob/master/python_300_02.ipynb\" target=\"_parent\"><img src=\"https://colab.research.google.com/assets/colab-badge.svg\" alt=\"Open In Colab\"/></a>"
      ]
    },
    {
      "metadata": {
        "id": "k58qJaQd7Wea",
        "colab_type": "code",
        "colab": {
          "base_uri": "https://localhost:8080/",
          "height": 68
        },
        "outputId": "cb6bd73e-765e-4c95-fc46-dd7adb567e16"
      },
      "cell_type": "code",
      "source": [
        "#我的python練習(Ch1-1.2)\n",
        "# Display three messages\n",
        "print(\"Welcome to Python\")\n",
        "print(\"Python is fun\")\n",
        "print(\"Problem Driven\")"
      ],
      "execution_count": 1,
      "outputs": [
        {
          "output_type": "stream",
          "text": [
            "Welcome to Python\n",
            "Python is fun\n",
            "Problem Driven\n"
          ],
          "name": "stdout"
        }
      ]
    },
    {
      "metadata": {
        "id": "Vap23BQ47qEu",
        "colab_type": "text"
      },
      "cell_type": "markdown",
      "source": [
        "Chapter 1_practice 1.2"
      ]
    }
  ]
}