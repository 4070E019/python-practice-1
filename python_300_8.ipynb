{
  "nbformat": 4,
  "nbformat_minor": 0,
  "metadata": {
    "colab": {
      "name": "python 300_8.ipynb",
      "version": "0.3.2",
      "provenance": [],
      "include_colab_link": true
    },
    "kernelspec": {
      "name": "python3",
      "display_name": "Python 3"
    }
  },
  "cells": [
    {
      "cell_type": "markdown",
      "metadata": {
        "id": "view-in-github",
        "colab_type": "text"
      },
      "source": [
        "<a href=\"https://colab.research.google.com/github/Brown8893/python-practice/blob/master/python_300_8.ipynb\" target=\"_parent\"><img src=\"https://colab.research.google.com/assets/colab-badge.svg\" alt=\"Open In Colab\"/></a>"
      ]
    },
    {
      "metadata": {
        "id": "z5EPISdbDgYN",
        "colab_type": "code",
        "colab": {
          "base_uri": "https://localhost:8080/",
          "height": 51
        },
        "outputId": "2e325910-8a0d-48d3-f3e5-0273eacb336e"
      },
      "cell_type": "code",
      "source": [
        "#我的python練習(Ch2-2.2)\n",
        "# Prompt the user to enter a radius\n",
        "radius = eval(input(\"Enter a value for radius: \"))\n",
        "\n",
        "# Compute area\n",
        "area = radius * radius * 3.14159\n",
        "\n",
        "# Display results\n",
        "print(\"The area for the circle of radius\", radius, \"is\", area)"
      ],
      "execution_count": 1,
      "outputs": [
        {
          "output_type": "stream",
          "text": [
            "Enter a value for radius: 10\n",
            "The area for the circle of radius 10 is 314.159\n"
          ],
          "name": "stdout"
        }
      ]
    },
    {
      "metadata": {
        "id": "JOdqIvRTDuDD",
        "colab_type": "text"
      },
      "cell_type": "markdown",
      "source": [
        "Chapter 2_practice 2.2"
      ]
    }
  ]
}