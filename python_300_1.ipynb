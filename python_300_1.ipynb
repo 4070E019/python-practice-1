{
  "nbformat": 4,
  "nbformat_minor": 0,
  "metadata": {
    "colab": {
      "name": "python 300_1.ipynb",
      "version": "0.3.2",
      "provenance": [],
      "include_colab_link": true
    },
    "kernelspec": {
      "name": "python2",
      "display_name": "Python 2"
    }
  },
  "cells": [
    {
      "cell_type": "markdown",
      "metadata": {
        "id": "view-in-github",
        "colab_type": "text"
      },
      "source": [
        "<a href=\"https://colab.research.google.com/github/Brown8893/python-practice/blob/master/python_300_1.ipynb\" target=\"_parent\"><img src=\"https://colab.research.google.com/assets/colab-badge.svg\" alt=\"Open In Colab\"/></a>"
      ]
    },
    {
      "metadata": {
        "id": "A1-Rl_q7zNkb",
        "colab_type": "code",
        "colab": {
          "base_uri": "https://localhost:8080/",
          "height": 250
        },
        "outputId": "3c3e8ba6-408f-4cae-81f4-4ebaeecc3400"
      },
      "cell_type": "code",
      "source": [
        "#我的python練習(Ch4-4.1)\n",
        "import random \n",
        "\n",
        "# Generate random numbers\n",
        "number1 = random.randint(0, 9)\n",
        "number2 = random.randint(0, 9)\n",
        "\n",
        "# Prompt the user to enter an answer\n",
        "answer = eval(input(\"What is \" + str(number1) + \" + \" \n",
        "    + str(number2) + \"? \"))\n",
        "    \n",
        "# Display result    \n",
        "print(number1, \"+\", number2, \"=\", answer, \n",
        "    \"is\", number1 + number2 == answer)"
      ],
      "execution_count": 3,
      "outputs": [
        {
          "output_type": "stream",
          "text": [
            "What is 4 + 1? 5\n"
          ],
          "name": "stdout"
        },
        {
          "output_type": "error",
          "ename": "TypeError",
          "evalue": "ignored",
          "traceback": [
            "\u001b[0;31m\u001b[0m",
            "\u001b[0;31mTypeError\u001b[0mTraceback (most recent call last)",
            "\u001b[0;32m<ipython-input-3-7336d61f6761>\u001b[0m in \u001b[0;36m<module>\u001b[0;34m()\u001b[0m\n\u001b[1;32m      7\u001b[0m \u001b[0;31m# Prompt the user to enter an answer\u001b[0m\u001b[0;34m\u001b[0m\u001b[0;34m\u001b[0m\u001b[0m\n\u001b[1;32m      8\u001b[0m answer = eval(input(\"What is \" + str(number1) + \" + \" \n\u001b[0;32m----> 9\u001b[0;31m     + str(number2) + \"? \"))\n\u001b[0m\u001b[1;32m     10\u001b[0m \u001b[0;34m\u001b[0m\u001b[0m\n\u001b[1;32m     11\u001b[0m \u001b[0;31m# Display result\u001b[0m\u001b[0;34m\u001b[0m\u001b[0;34m\u001b[0m\u001b[0m\n",
            "\u001b[0;31mTypeError\u001b[0m: eval() arg 1 must be a string or code object"
          ]
        }
      ]
    },
    {
      "metadata": {
        "id": "yDnBNZF73xov",
        "colab_type": "text"
      },
      "cell_type": "markdown",
      "source": [
        "Chapter 4_practice 4.1"
      ]
    }
  ]
}